{
 "cells": [
  {
   "cell_type": "markdown",
   "id": "379d7369",
   "metadata": {},
   "source": [
    "# Importing Libraries"
   ]
  },
  {
   "cell_type": "code",
   "execution_count": 127,
   "id": "4c4ce7da",
   "metadata": {},
   "outputs": [],
   "source": [
    "import numpy as np\n",
    "import pandas as pd\n",
    "import math\n",
    "from scipy.spatial import distance"
   ]
  },
  {
   "cell_type": "markdown",
   "id": "832e4ced",
   "metadata": {},
   "source": [
    "# Getting Data"
   ]
  },
  {
   "cell_type": "code",
   "execution_count": 128,
   "id": "c7aca078",
   "metadata": {},
   "outputs": [],
   "source": [
    "dataset = pd.read_csv('tracks_features.csv')"
   ]
  },
  {
   "cell_type": "code",
   "execution_count": 129,
   "id": "dc9c416b",
   "metadata": {},
   "outputs": [
    {
     "name": "stdout",
     "output_type": "stream",
     "text": [
      "                       id                   name                      album  \\\n",
      "0  7lmeHLHBe4nmXzuXc0HDjk                Testify  The Battle Of Los Angeles   \n",
      "1  1wsRitfRRtWyEapl0q22o8        Guerrilla Radio  The Battle Of Los Angeles   \n",
      "2  1hR0fIFK2qRG3f3RF70pb7       Calm Like a Bomb  The Battle Of Los Angeles   \n",
      "3  2lbASgTSoDO7MTuLAXlTW0              Mic Check  The Battle Of Los Angeles   \n",
      "4  1MQTmpYOZ6fcMQc56Hdo7T  Sleep Now In the Fire  The Battle Of Los Angeles   \n",
      "\n",
      "                 album_id                       artists  \\\n",
      "0  2eia0myWFgoHuttJytCxgX  ['Rage Against The Machine']   \n",
      "1  2eia0myWFgoHuttJytCxgX  ['Rage Against The Machine']   \n",
      "2  2eia0myWFgoHuttJytCxgX  ['Rage Against The Machine']   \n",
      "3  2eia0myWFgoHuttJytCxgX  ['Rage Against The Machine']   \n",
      "4  2eia0myWFgoHuttJytCxgX  ['Rage Against The Machine']   \n",
      "\n",
      "                   artist_ids  track_number  disc_number  explicit  \\\n",
      "0  ['2d0hyoQ5ynDBnkvAbJKORj']             1            1     False   \n",
      "1  ['2d0hyoQ5ynDBnkvAbJKORj']             2            1      True   \n",
      "2  ['2d0hyoQ5ynDBnkvAbJKORj']             3            1     False   \n",
      "3  ['2d0hyoQ5ynDBnkvAbJKORj']             4            1      True   \n",
      "4  ['2d0hyoQ5ynDBnkvAbJKORj']             5            1     False   \n",
      "\n",
      "   danceability  ...  speechiness  acousticness  instrumentalness  liveness  \\\n",
      "0         0.470  ...       0.0727       0.02610          0.000011    0.3560   \n",
      "1         0.599  ...       0.1880       0.01290          0.000071    0.1550   \n",
      "2         0.315  ...       0.4830       0.02340          0.000002    0.1220   \n",
      "3         0.440  ...       0.2370       0.16300          0.000004    0.1210   \n",
      "4         0.426  ...       0.0701       0.00162          0.105000    0.0789   \n",
      "\n",
      "   valence    tempo  duration_ms  time_signature  year  release_date  \n",
      "0    0.503  117.906       210133             4.0  1999    1999-11-02  \n",
      "1    0.489  103.680       206200             4.0  1999    1999-11-02  \n",
      "2    0.370  149.749       298893             4.0  1999    1999-11-02  \n",
      "3    0.574   96.752       213640             4.0  1999    1999-11-02  \n",
      "4    0.539  127.059       205600             4.0  1999    1999-11-02  \n",
      "\n",
      "[5 rows x 24 columns]\n"
     ]
    }
   ],
   "source": [
    "print(dataset.iloc[0:5, :])"
   ]
  },
  {
   "cell_type": "code",
   "execution_count": 130,
   "id": "e3d7bdf9",
   "metadata": {},
   "outputs": [],
   "source": [
    "X = dataset.iloc[ : , [4, 9, 10, 11, 12, 13, 14, 15, 16, 17, 18, 19, 20, 22]]\n",
    "X_val = X.values"
   ]
  },
  {
   "cell_type": "code",
   "execution_count": 131,
   "id": "9f2232fb",
   "metadata": {
    "scrolled": false
   },
   "outputs": [
    {
     "name": "stdout",
     "output_type": "stream",
     "text": [
      "[[\"['Rage Against The Machine']\" 0.47 0.978 7 -5.399 1 0.0727 0.0261\n",
      "  1.09e-05 0.356 0.503 117.906 210133 1999]\n",
      " [\"['Rage Against The Machine']\" 0.599 0.957 11 -5.763999999999999 1\n",
      "  0.188 0.0129 7.06e-05 0.155 0.489 103.68 206200 1999]\n",
      " [\"['Rage Against The Machine']\" 0.315 0.97 7 -5.424 1 0.483 0.0234\n",
      "  2.03e-06 0.122 0.37 149.749 298893 1999]\n",
      " [\"['Rage Against The Machine']\" 0.44 0.967 11 -5.83 0 0.237 0.163\n",
      "  3.64e-06 0.121 0.574 96.752 213640 1999]\n",
      " [\"['Rage Against The Machine']\" 0.426 0.929 2 -6.729 1 0.0701 0.00162\n",
      "  0.105 0.0789 0.539 127.059 205600 1999]]\n"
     ]
    }
   ],
   "source": [
    "print(X_val[0:5, :])"
   ]
  },
  {
   "cell_type": "markdown",
   "id": "2e52e19d",
   "metadata": {},
   "source": [
    "# Data Preprocessing"
   ]
  },
  {
   "cell_type": "code",
   "execution_count": 132,
   "id": "0d0f7c55",
   "metadata": {},
   "outputs": [],
   "source": [
    "from sklearn.preprocessing import OrdinalEncoder\n",
    "\n",
    "Ord_Enc_name = OrdinalEncoder()\n",
    "X_val[ : , [0]] = Ord_Enc_name.fit_transform(X_val[ : , [0]])"
   ]
  },
  {
   "cell_type": "code",
   "execution_count": 133,
   "id": "e0d2bcda",
   "metadata": {
    "scrolled": true
   },
   "outputs": [
    {
     "name": "stdout",
     "output_type": "stream",
     "text": [
      "[[120921.0 0.47 0.978 7 -5.399 1 0.0727 0.0261 1.09e-05 0.356 0.503\n",
      "  117.906 210133 1999]\n",
      " [120921.0 0.599 0.957 11 -5.763999999999999 1 0.188 0.0129 7.06e-05\n",
      "  0.155 0.489 103.68 206200 1999]\n",
      " [120921.0 0.315 0.97 7 -5.424 1 0.483 0.0234 2.03e-06 0.122 0.37 149.749\n",
      "  298893 1999]\n",
      " [120921.0 0.44 0.967 11 -5.83 0 0.237 0.163 3.64e-06 0.121 0.574 96.752\n",
      "  213640 1999]\n",
      " [120921.0 0.426 0.929 2 -6.729 1 0.0701 0.00162 0.105 0.0789 0.539\n",
      "  127.059 205600 1999]]\n"
     ]
    }
   ],
   "source": [
    "print(X_val[0:5, :])"
   ]
  },
  {
   "cell_type": "code",
   "execution_count": 134,
   "id": "095e6ee2",
   "metadata": {},
   "outputs": [
    {
     "name": "stdout",
     "output_type": "stream",
     "text": [
      "[[0.7760313166942202 0.47 0.978 0.5105985094285523 0.9180155784801944 1\n",
      "  0.0727 0.0261 1.09e-05 0.356 0.503 0.008780679869455412\n",
      "  -0.23862148938608052 -0.6881827433075928]\n",
      " [0.7760313166942202 0.599 0.957 1.6415869581746705 0.8657392577358197 1\n",
      "  0.188 0.0129 7.06e-05 0.155 0.489 -0.451056552285268\n",
      "  -0.2628677933855762 -0.6881827433075928]\n",
      " [0.7760313166942202 0.315 0.97 0.5105985094285523 0.9144350085661961 1\n",
      "  0.483 0.0234 2.03e-06 0.122 0.37 1.038064876657228 0.30856944450541135\n",
      "  -0.6881827433075928]\n",
      " [0.7760313166942202 0.44 0.967 1.6415869581746705 0.8562865531628642 0\n",
      "  0.237 0.163 3.64e-06 0.121 0.574 -0.674995280274016\n",
      "  -0.21700140595708706 -0.6881827433075928]\n",
      " [0.7760313166942202 0.426 0.929 -0.9031370515040952 0.7275292590554862 1\n",
      "  0.0701 0.00162 0.105 0.0789 0.539 0.30463968351856124\n",
      "  -0.26656669559755114 -0.6881827433075928]\n",
      " [0.7760313166942202 0.298 0.848 -0.9031370515040952 0.8395294859653522 1\n",
      "  0.0727 0.0538 0.0015199999999999 0.201 0.1939999999999999\n",
      "  0.9906459803004888 0.19801542222650054 -0.6881827433075928]]\n"
     ]
    }
   ],
   "source": [
    "from sklearn.preprocessing import StandardScaler\n",
    "\n",
    "sc = StandardScaler()\n",
    "X_val[:, [0, 3, 4, 11, 12, 13]] = sc.fit_transform(X_val[:, [0, 3, 4, 11, 12, 13]])\n",
    "print(X_val[0:6, :])"
   ]
  },
  {
   "cell_type": "markdown",
   "id": "d6a68dc3",
   "metadata": {},
   "source": [
    "# Choosing number of clusters"
   ]
  },
  {
   "cell_type": "code",
   "execution_count": 89,
   "id": "df707fd8",
   "metadata": {},
   "outputs": [
    {
     "data": {
      "image/png": "[encoded data removed]",
      "text/plain": [
       "<Figure size 432x288 with 1 Axes>"
      ]
     },
     "metadata": {
      "needs_background": "light"
     },
     "output_type": "display_data"
    }
   ],
   "source": [
    "from sklearn.cluster import KMeans\n",
    "\n",
    "wcss = []\n",
    "\n",
    "for i in range(1, 20):\n",
    "    \n",
    "    kmeans = KMeans(n_clusters = i, init = 'k-means++', random_state = 42)\n",
    "    kmeans.fit(X_val)\n",
    "    wcss.append(kmeans.inertia_)\n",
    "    \n",
    "plt.plot(range(1, 20), wcss)\n",
    "plt.title('The Elbow Method')\n",
    "plt.xlabel('Number of clusters')\n",
    "plt.ylabel('WCSS')\n",
    "plt.show()"
   ]
  },
  {
   "cell_type": "markdown",
   "id": "f30db87d",
   "metadata": {},
   "source": [
    "# Training K Means Clustering Method"
   ]
  },
  {
   "cell_type": "code",
   "execution_count": 135,
   "id": "d36dc76e",
   "metadata": {},
   "outputs": [],
   "source": [
    "from sklearn.cluster import KMeans\n",
    "\n",
    "kmeans_10 = KMeans(n_clusters = 10, init = 'k-means++', random_state = 42)\n",
    "y_kmeans_10 = kmeans_10.fit_predict(X_val)"
   ]
  },
  {
   "cell_type": "markdown",
   "id": "11313287",
   "metadata": {},
   "source": [
    "# Getting Clusters as Numpy Arrays"
   ]
  },
  {
   "cell_type": "code",
   "execution_count": 137,
   "id": "1d392122",
   "metadata": {},
   "outputs": [],
   "source": [
    "Ten_0_cluster = np.zeros([len(dataset), 15])\n",
    "Ten_1_cluster = np.zeros([len(dataset), 15])\n",
    "Ten_2_cluster = np.zeros([len(dataset), 15])\n",
    "Ten_3_cluster = np.zeros([len(dataset), 15])\n",
    "Ten_4_cluster = np.zeros([len(dataset), 15])\n",
    "Ten_5_cluster = np.zeros([len(dataset), 15])\n",
    "Ten_6_cluster = np.zeros([len(dataset), 15])\n",
    "Ten_7_cluster = np.zeros([len(dataset), 15])\n",
    "Ten_8_cluster = np.zeros([len(dataset), 15])\n",
    "Ten_9_cluster = np.zeros([len(dataset), 15])\n",
    "\n",
    "for i in range(0, len(dataset)):\n",
    "    if y_kmeans_10[i] == 0:\n",
    "        Ten_0_cluster[i, 0:14] = Ten_0_cluster[i, 0:14] + X_val[i, 0:14]\n",
    "        Ten_0_cluster[i, 14] = i\n",
    "                                                 \n",
    "    elif y_kmeans_10[i] == 1:\n",
    "        Ten_1_cluster[i, 0:14] = Ten_1_cluster[i, 0:14] + X_val[i, 0:14]\n",
    "        Ten_1_cluster[i, 14] = i\n",
    "                                                 \n",
    "    elif y_kmeans_10[i] == 2:\n",
    "        Ten_2_cluster[i, 0:14] = Ten_2_cluster[i, 0:14] + X_val[i, 0:14]\n",
    "        Ten_2_cluster[i, 14] = i\n",
    "                                                 \n",
    "    elif y_kmeans_10[i] == 3:\n",
    "        Ten_3_cluster[i, 0:14] = Ten_3_cluster[i, 0:14] + X_val[i, 0:14]\n",
    "        Ten_3_cluster[i, 14] = i\n",
    "                                                 \n",
    "    elif y_kmeans_10[i] == 4:\n",
    "        Ten_4_cluster[i, 0:14] = Ten_4_cluster[i, 0:14] + X_val[i, 0:14]\n",
    "        Ten_4_cluster[i, 14] = i\n",
    "                                                 \n",
    "    elif y_kmeans_10[i] == 5:\n",
    "        Ten_5_cluster[i, 0:14] = Ten_5_cluster[i, 0:14] + X_val[i, 0:14]\n",
    "        Ten_5_cluster[i, 14] = i\n",
    "                                                 \n",
    "    elif y_kmeans_10[i] == 6:\n",
    "        Ten_6_cluster[i, 0:14] = Ten_6_cluster[i, 0:14] + X_val[i, 0:14]\n",
    "        Ten_6_cluster[i, 14] = i\n",
    "        \n",
    "    elif y_kmeans_10[i] == 7:\n",
    "        Ten_7_cluster[i, 0:14] = Ten_7_cluster[i, 0:14] + X_val[i, 0:14]\n",
    "        Ten_7_cluster[i, 14] = i\n",
    "                                                 \n",
    "    elif y_kmeans_10[i] == 8:\n",
    "        Ten_8_cluster[i, 0:14] = Ten_8_cluster[i, 0:14] + X_val[i, 0:14]\n",
    "        Ten_8_cluster[i, 14] = i\n",
    "                                                 \n",
    "    elif y_kmeans_10[i] == 9:\n",
    "        Ten_9_cluster[i, 0:14] = Ten_9_cluster[i, 0:14] + X_val[i, 0:14]\n",
    "        Ten_9_cluster[i, 14] = i\n",
    "        \n",
    "Ten_0_cluster = Ten_0_cluster[~np.all(Ten_0_cluster == 0, axis=1)]\n",
    "Ten_1_cluster = Ten_1_cluster[~np.all(Ten_1_cluster == 0, axis=1)]\n",
    "Ten_2_cluster = Ten_2_cluster[~np.all(Ten_2_cluster == 0, axis=1)]\n",
    "Ten_3_cluster = Ten_3_cluster[~np.all(Ten_3_cluster == 0, axis=1)]\n",
    "Ten_4_cluster = Ten_4_cluster[~np.all(Ten_4_cluster == 0, axis=1)]\n",
    "Ten_5_cluster = Ten_5_cluster[~np.all(Ten_5_cluster == 0, axis=1)]\n",
    "Ten_6_cluster = Ten_6_cluster[~np.all(Ten_6_cluster == 0, axis=1)]\n",
    "Ten_7_cluster = Ten_7_cluster[~np.all(Ten_7_cluster == 0, axis=1)]\n",
    "Ten_8_cluster = Ten_8_cluster[~np.all(Ten_8_cluster == 0, axis=1)]\n",
    "Ten_9_cluster = Ten_9_cluster[~np.all(Ten_9_cluster == 0, axis=1)]"
   ]
  },
  {
   "cell_type": "markdown",
   "id": "991b5f79",
   "metadata": {},
   "source": [
    "# Getting Input From the User"
   ]
  },
  {
   "cell_type": "code",
   "execution_count": 142,
   "id": "992252f7",
   "metadata": {},
   "outputs": [
    {
     "name": "stdout",
     "output_type": "stream",
     "text": [
      "Your reference track's title: debke\n",
      "Your reference track's artist's name: traveler\n"
     ]
    }
   ],
   "source": [
    "ref_track_title = input('Your reference track\\'s title: ')\n",
    "ref_artist_name = input('Your reference track\\'s artist\\'s name: ')\n",
    "\n",
    "ref_artist_name = ''.join(ch for ch in ref_artist_name if ch.isalnum())\n",
    "ref_artist_name = ref_artist_name.lower()\n",
    "\n",
    "ref_track_title = ''.join(ch for ch in ref_track_title if ch.isalnum())\n",
    "ref_track_title = ref_track_title.lower()\n",
    "\n",
    "ref_track_array = np.zeros([1, 14])\n",
    "\n",
    "for i in range(0, len(X_val)):\n",
    "    \n",
    "    check_artist_name = ''.join(ch for ch in dataset.iloc[i, 4] if ch.isalnum())\n",
    "    check_artist_name = check_artist_name.lower()\n",
    "    \n",
    "    check_track_title = ''.join(ch for ch in dataset.iloc[i, 1] if ch.isalnum())\n",
    "    check_track_title = check_track_title.lower()\n",
    "    \n",
    "    \n",
    "    if check_track_title == ref_track_title and check_artist_name == ref_artist_name:\n",
    "        \n",
    "        ref_track_array = X_val[i,:]\n",
    "        break\n",
    "    \n",
    "    elif ref_track_array[0, 1] == 0 and i == len(X_val) - 1:\n",
    "        print('Failed to find your track. Please check the song list again.')\n",
    "        \n",
    "ref_cluster = y_kmeans_10[i]"
   ]
  },
  {
   "cell_type": "markdown",
   "id": "db57845e",
   "metadata": {},
   "source": [
    "# Euclidian Distance Function"
   ]
  },
  {
   "cell_type": "code",
   "execution_count": 147,
   "id": "5468a612",
   "metadata": {},
   "outputs": [],
   "source": [
    "def distance_arrayF(array, ref_track):\n",
    "    \n",
    "    distance_array = np.empty([array.shape[0], 2])\n",
    "    \n",
    "    for i in range(0, array.shape[0]):\n",
    "        \n",
    "        distance_sum = 0\n",
    "        \n",
    "        for j in range(0, array.shape[1]-1):\n",
    "            \n",
    "            distance_sum = distance_sum + ((ref_track[j] - array[i, j])**2)\n",
    "            \n",
    "        distance_sum = math.sqrt(distance_sum)\n",
    "        distance_array[i, 0] = distance_sum\n",
    "        distance_array[i, 1] = array[i, 14]\n",
    "        \n",
    "    return distance_array"
   ]
  },
  {
   "cell_type": "markdown",
   "id": "27c2f622",
   "metadata": {},
   "source": [
    "# Arranging Distance Array For Euclidian Distance"
   ]
  },
  {
   "cell_type": "code",
   "execution_count": 148,
   "id": "ec133c9c",
   "metadata": {},
   "outputs": [
    {
     "name": "stdout",
     "output_type": "stream",
     "text": [
      "[[ 1.81393375  4.        ]\n",
      " [ 2.26274329  5.        ]\n",
      " [ 2.30626652 14.        ]\n",
      " [ 2.25348126 17.        ]\n",
      " [ 2.39260722 20.        ]\n",
      " [ 1.47238065 36.        ]]\n"
     ]
    }
   ],
   "source": [
    "if ref_cluster == 0:\n",
    "    distance_array = distance_arrayF(Ten_0_cluster, ref_track_array)\n",
    "    \n",
    "elif ref_cluster == 1:\n",
    "    distance_array = distance_arrayF(Ten_1_cluster, ref_track_array)\n",
    "    \n",
    "elif ref_cluster == 2:\n",
    "    distance_array = distance_arrayF(Ten_2_cluster, ref_track_array)\n",
    "    \n",
    "elif ref_cluster == 3:\n",
    "    distance_array = distance_arrayF(Ten_3_cluster, ref_track_array)\n",
    "    \n",
    "elif ref_cluster == 4:\n",
    "    distance_array = distance_arrayF(Ten_4_cluster, ref_track_array)\n",
    "    \n",
    "elif ref_cluster == 5:\n",
    "    distance_array = distance_arrayF(Ten_5_cluster, ref_track_array)\n",
    "    \n",
    "elif ref_cluster == 6:\n",
    "    distance_array = distance_arrayF(Ten_6_cluster, ref_track_array)\n",
    "    \n",
    "elif ref_cluster == 7:\n",
    "    distance_array = distance_arrayF(Ten_7_cluster, ref_track_array)\n",
    "    \n",
    "elif ref_cluster == 8:\n",
    "    distance_array = distance_arrayF(Ten_8_cluster, ref_track_array)\n",
    "    \n",
    "elif ref_cluster == 9:\n",
    "    distance_array = distance_arrayF(Ten_9_cluster, ref_track_array)\n",
    "\n",
    "print(distance_array[0:6, :])"
   ]
  },
  {
   "cell_type": "code",
   "execution_count": 149,
   "id": "d75f0612",
   "metadata": {},
   "outputs": [
    {
     "name": "stdout",
     "output_type": "stream",
     "text": [
      "[[0.00000000e+00 1.10293700e+06]\n",
      " [3.81490867e-01 3.06033000e+05]\n",
      " [4.26926198e-01 9.77900000e+04]\n",
      " [4.30461500e-01 1.09063800e+06]\n",
      " [4.46800392e-01 3.01501000e+05]\n",
      " [4.58004561e-01 4.94783000e+05]]\n"
     ]
    }
   ],
   "source": [
    "sorted_distance_array = distance_array[np.argsort(distance_array[:, 0])]\n",
    "print(sorted_distance_array[0:6])"
   ]
  },
  {
   "cell_type": "markdown",
   "id": "d6a231a7",
   "metadata": {},
   "source": [
    "# Suggestions For Euclidian Distance"
   ]
  },
  {
   "cell_type": "code",
   "execution_count": 155,
   "id": "ffee84c6",
   "metadata": {},
   "outputs": [
    {
     "name": "stdout",
     "output_type": "stream",
     "text": [
      "1. Suggestion\n",
      "Song name:  Sell Me This\n",
      "Album name:  Clusterfunk\n",
      "Artist's name:  ['The Shuffle Demons'] \n",
      "\n",
      "2. Suggestion\n",
      "Song name:  Ocean to Ocean\n",
      "Album name:  Searchlights\n",
      "Artist's name:  ['The Shondes'] \n",
      "\n",
      "3. Suggestion\n",
      "Song name:  Ez Zaitez Nigana Hurbildu\n",
      "Album name:  Ez Nago Lo\n",
      "Artist's name:  ['U.K. Bill'] \n",
      "\n",
      "4. Suggestion\n",
      "Song name:  Secret Songs\n",
      "Album name:  These Things Happen...\n",
      "Artist's name:  ['Vision Through Sound'] \n",
      "\n",
      "5. Suggestion\n",
      "Song name:  You'll Be Mine\n",
      "Album name:  Victim of the Blues\n",
      "Artist's name:  ['Tracy Nelson'] \n",
      "\n",
      "6. Suggestion\n",
      "Song name:  I See a Stranger\n",
      "Album name:  User's Guide to Oblivion\n",
      "Artist's name:  ['Trendlaser'] \n",
      "\n",
      "7. Suggestion\n",
      "Song name:  Earnestine\n",
      "Album name:  Leaving Mood\n",
      "Artist's name:  ['Toronzo Cannon', 'Carl Weathersby'] \n",
      "\n",
      "8. Suggestion\n",
      "Song name:  Born to Cry\n",
      "Album name:  Bible Belt Freak Out\n",
      "Artist's name:  ['The Raymen'] \n",
      "\n",
      "9. Suggestion\n",
      "Song name:  Tu Volveras\n",
      "Album name:  Cardio Salsa\n",
      "Artist's name:  ['Tropical Fantasia'] \n",
      "\n",
      "10. Suggestion\n",
      "Song name:  Feel Like I Do\n",
      "Album name:  The Journey of Julian Rhine\n",
      "Artist's name:  ['White Rhino'] \n",
      "\n"
     ]
    }
   ],
   "source": [
    "for i in range(1, 11):\n",
    "    print('{}. Suggestion'.format(i))\n",
    "    print('Song name: ', dataset.iloc[int(sorted_distance_array[i, 1]), 1])\n",
    "    print('Album name: ', dataset.iloc[int(sorted_distance_array[i, 1]), 2])\n",
    "    print('Artist\\'s name: ', dataset.iloc[int(sorted_distance_array[i, 1]), 4], '\\n')"
   ]
  },
  {
   "cell_type": "markdown",
   "id": "1e929fd4",
   "metadata": {},
   "source": [
    "# Cosine Distance Function"
   ]
  },
  {
   "cell_type": "code",
   "execution_count": 151,
   "id": "aa1bd981",
   "metadata": {},
   "outputs": [],
   "source": [
    "def cos_distance_arrayF(array, ref_track):\n",
    "    \n",
    "    distance_array = np.empty([array.shape[0], 2])\n",
    "    \n",
    "    for i in range(0, array.shape[0]):\n",
    "        \n",
    "        distance_array[i, 0] = distance.cosine(ref_track, array[i, 0:14])\n",
    "        distance_array[i, 1] = array[i, 14]\n",
    "        \n",
    "    return distance_array"
   ]
  },
  {
   "cell_type": "markdown",
   "id": "2f536015",
   "metadata": {},
   "source": [
    "# Arranging Distance Array For Cosine Difference"
   ]
  },
  {
   "cell_type": "code",
   "execution_count": 152,
   "id": "52cdb469",
   "metadata": {},
   "outputs": [],
   "source": [
    "if ref_cluster == 0:\n",
    "    cos_distance_array = cos_distance_arrayF(Ten_0_cluster, ref_track_array)\n",
    "\n",
    "elif ref_cluster == 1:\n",
    "    cos_distance_array = cos_distance_arrayF(Ten_1_cluster, ref_track_array)\n",
    "    \n",
    "elif ref_cluster == 2:\n",
    "    cos_distance_array = cos_distance_arrayF(Ten_2_cluster, ref_track_array)\n",
    "    \n",
    "elif ref_cluster == 3:\n",
    "    cos_distance_array = cos_distance_arrayF(Ten_3_cluster, ref_track_array)\n",
    "    \n",
    "elif ref_cluster == 4:\n",
    "    cos_distance_array = cos_distance_arrayF(Ten_4_cluster, ref_track_array)\n",
    "    \n",
    "elif ref_cluster == 5:\n",
    "    cos_distance_array = cos_distance_arrayF(Ten_5_cluster, ref_track_array)\n",
    "    \n",
    "elif ref_cluster == 6:\n",
    "    cos_distance_array = cos_distance_arrayF(Ten_6_cluster, ref_track_array)\n",
    "    \n",
    "elif ref_cluster == 7:\n",
    "    cos_distance_array = cos_distance_arrayF(Ten_7_cluster, ref_track_array)\n",
    "    \n",
    "elif ref_cluster == 8:\n",
    "    cos_distance_array = cos_distance_arrayF(Ten_8_cluster, ref_track_array)\n",
    "    \n",
    "elif ref_cluster == 9:\n",
    "    cos_distance_array = cos_distance_arrayF(Ten_9_cluster, ref_track_array)\n",
    "\n",
    "    print(cos_distance_array[0:6, :])"
   ]
  },
  {
   "cell_type": "code",
   "execution_count": 153,
   "id": "af504793",
   "metadata": {},
   "outputs": [
    {
     "name": "stdout",
     "output_type": "stream",
     "text": [
      "[[0.00000000e+00 1.10293700e+06]\n",
      " [1.25625711e-02 3.06033000e+05]\n",
      " [1.27978980e-02 1.09063800e+06]\n",
      " [1.38015126e-02 2.65038000e+05]\n",
      " [1.43411621e-02 2.84614000e+05]\n",
      " [1.56434827e-02 9.77900000e+04]]\n"
     ]
    }
   ],
   "source": [
    "sorted_cos_distance_array = cos_distance_array[np.argsort(cos_distance_array[:, 0])]\n",
    "print(sorted_cos_distance_array[0:6, :])"
   ]
  },
  {
   "cell_type": "markdown",
   "id": "22a7268d",
   "metadata": {},
   "source": [
    "# Suggestions For Cosine Distance"
   ]
  },
  {
   "cell_type": "code",
   "execution_count": 156,
   "id": "48909f5a",
   "metadata": {},
   "outputs": [
    {
     "name": "stdout",
     "output_type": "stream",
     "text": [
      "1. Suggestion\n",
      "Song name:  Sell Me This\n",
      "Album name:  Clusterfunk\n",
      "Artist's name:  ['The Shuffle Demons'] \n",
      "\n",
      "2. Suggestion\n",
      "Song name:  Ez Zaitez Nigana Hurbildu\n",
      "Album name:  Ez Nago Lo\n",
      "Artist's name:  ['U.K. Bill'] \n",
      "\n",
      "3. Suggestion\n",
      "Song name:  Anatomy\n",
      "Album name:  Get What You Came For\n",
      "Artist's name:  ['Vanity Theft'] \n",
      "\n",
      "4. Suggestion\n",
      "Song name:  Feel Like I Do\n",
      "Album name:  The Journey of Julian Rhine\n",
      "Artist's name:  ['White Rhino'] \n",
      "\n",
      "5. Suggestion\n",
      "Song name:  Ocean to Ocean\n",
      "Album name:  Searchlights\n",
      "Artist's name:  ['The Shondes'] \n",
      "\n",
      "6. Suggestion\n",
      "Song name:  Earnestine\n",
      "Album name:  Leaving Mood\n",
      "Artist's name:  ['Toronzo Cannon', 'Carl Weathersby'] \n",
      "\n",
      "7. Suggestion\n",
      "Song name:  Tu Volveras\n",
      "Album name:  Cardio Salsa\n",
      "Artist's name:  ['Tropical Fantasia'] \n",
      "\n",
      "8. Suggestion\n",
      "Song name:  Secret Songs\n",
      "Album name:  These Things Happen...\n",
      "Artist's name:  ['Vision Through Sound'] \n",
      "\n",
      "9. Suggestion\n",
      "Song name:  Two Hearts\n",
      "Album name:  Method To My Madness\n",
      "Artist's name:  ['Tommy Castro'] \n",
      "\n",
      "10. Suggestion\n",
      "Song name:  Don Thundershine\n",
      "Album name:  Brennschluss\n",
      "Artist's name:  ['The Teeth'] \n",
      "\n"
     ]
    }
   ],
   "source": [
    "for i in range(1, 11):\n",
    "    print('{}. Suggestion'.format(i))\n",
    "    print('Song name: ', dataset.iloc[int(sorted_cos_distance_array[i, 1]), 1])\n",
    "    print('Album name: ', dataset.iloc[int(sorted_cos_distance_array[i, 1]), 2])\n",
    "    print('Artist\\'s name: ', dataset.iloc[int(sorted_cos_distance_array[i, 1]), 4], '\\n')"
   ]
  },
  {
   "cell_type": "code",
   "execution_count": null,
   "id": "c0db97ab",
   "metadata": {},
   "outputs": [],
   "source": []
  }
 ],
 "metadata": {
  "kernelspec": {
   "display_name": "Python 3 (ipykernel)",
   "language": "python",
   "name": "python3"
  },
  "language_info": {
   "codemirror_mode": {
    "name": "ipython",
    "version": 3
   },
   "file_extension": ".py",
   "mimetype": "text/x-python",
   "name": "python",
   "nbconvert_exporter": "python",
   "pygments_lexer": "ipython3",
   "version": "3.9.7"
  }
 },
 "nbformat": 4,
 "nbformat_minor": 5
}
